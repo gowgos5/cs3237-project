{
 "cells": [
  {
   "cell_type": "code",
   "execution_count": null,
   "metadata": {},
   "outputs": [],
   "source": [
    "import heartpy as hp\n",
    "import numpy as np\n",
    "import matplotlib.pyplot as plt"
   ]
  },
  {
   "cell_type": "code",
   "execution_count": null,
   "metadata": {
    "scrolled": true
   },
   "outputs": [],
   "source": [
    "# load the PPG signal\n",
    "a = np.genfromtxt('output4.txt', delimiter=',')\n",
    "time = a[1:][:, 0]\n",
    "fs = 1/time[0]\n",
    "ppg = a[1:][:, 1]\n",
    "\n",
    "# and visualise\n",
    "plt.figure(figsize=(20,10))\n",
    "plt.plot(a)\n",
    "plt.show()"
   ]
  },
  {
   "cell_type": "code",
   "execution_count": null,
   "metadata": {},
   "outputs": [],
   "source": [
    "# load the PPG signal\n",
    "a = np.genfromtxt('ppg_new.txt', delimiter=',')\n",
    "\n",
    "# and visualise\n",
    "plt.figure(figsize=(20,10))\n",
    "plt.plot(a)\n",
    "plt.show()"
   ]
  },
  {
   "cell_type": "code",
   "execution_count": null,
   "metadata": {},
   "outputs": [],
   "source": [
    "# scale\n",
    "scaled = hp.scale_data(ppg, lower=0, upper=1)\n",
    "plt.figure(figsize=(20,10))\n",
    "plt.plot(scaled)\n",
    "plt.show()"
   ]
  },
  {
   "cell_type": "code",
   "execution_count": null,
   "metadata": {},
   "outputs": [],
   "source": [
    "# enhance peaks (optional)\n",
    "enhanced = hp.enhance_peaks(scaled, iterations=1)\n",
    "plt.figure(figsize=(20,10))\n",
    "plt.plot(enhanced)\n",
    "plt.show()"
   ]
  },
  {
   "cell_type": "code",
   "execution_count": null,
   "metadata": {},
   "outputs": [],
   "source": [
    "# filter noise\n",
    "fs = 12.5\n",
    "# return_top = True may improve peak prediction.\n",
    "filtered = hp.filter_signal(scaled, cutoff=[0.75, 3], sample_rate=fs, order=1, filtertype='bandpass')\n",
    "plt.figure(figsize=(20,10))\n",
    "plt.plot(filtered)\n",
    "plt.show()"
   ]
  },
  {
   "cell_type": "code",
   "execution_count": null,
   "metadata": {},
   "outputs": [],
   "source": [
    "# compute HRV\n",
    "wd, m = hp.process(filtered, sample_rate=fs, calc_freq=True, freq_method='fft', high_precision=True, clean_rr=True)\n",
    "\n",
    "# plot\n",
    "plt.figure(figsize=(20,10))\n",
    "hp.plotter(wd, m)\n",
    "\n",
    "for measure in m.keys():\n",
    "    print('%s: %f' %(measure, m[measure]))"
   ]
  },
  {
   "cell_type": "code",
   "execution_count": null,
   "metadata": {},
   "outputs": [],
   "source": [
    "# sliding window analysis\n",
    "def window(a, w, o, copy = False):\n",
    "    sh = (a.size - w + 1, w)\n",
    "    st = a.strides * 2\n",
    "    o = int(o * w);\n",
    "    view = np.lib.stride_tricks.as_strided(a, strides = st, shape = sh)[0::o]\n",
    "    if copy:\n",
    "        return view.copy()\n",
    "    else:\n",
    "        return view\n",
    "    \n",
    "ppgs = window(filtered, 1000, 0.2)\n",
    "\n",
    "for p in ppgs:\n",
    "    # compute HRV\n",
    "    wd, m = hp.process(p, sample_rate=fs)\n",
    "\n",
    "    # plot\n",
    "    plt.figure(figsize=(20,10))\n",
    "    hp.plotter(wd, m)\n",
    "\n",
    "    for measure in m.keys():\n",
    "        print('%s: %f' %(measure, m[measure]))"
   ]
  },
  {
   "cell_type": "code",
   "execution_count": null,
   "metadata": {},
   "outputs": [],
   "source": []
  }
 ],
 "metadata": {
  "kernelspec": {
   "display_name": "Python 3",
   "language": "python",
   "name": "python3"
  },
  "language_info": {
   "codemirror_mode": {
    "name": "ipython",
    "version": 3
   },
   "file_extension": ".py",
   "mimetype": "text/x-python",
   "name": "python",
   "nbconvert_exporter": "python",
   "pygments_lexer": "ipython3",
   "version": "3.6.8"
  }
 },
 "nbformat": 4,
 "nbformat_minor": 2
}
