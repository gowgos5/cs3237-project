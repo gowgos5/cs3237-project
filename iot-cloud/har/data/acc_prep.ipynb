{
 "cells": [
  {
   "cell_type": "code",
   "execution_count": 1,
   "metadata": {},
   "outputs": [],
   "source": [
    "import os\n",
    "import pandas as pd\n",
    "import numpy as np\n",
    "import matplotlib.pyplot as plt"
   ]
  },
  {
   "cell_type": "code",
   "execution_count": 2,
   "metadata": {},
   "outputs": [],
   "source": [
    "labels = ['run', 'jump', 'idle']"
   ]
  },
  {
   "cell_type": "code",
   "execution_count": 3,
   "metadata": {},
   "outputs": [
    {
     "name": "stdout",
     "output_type": "stream",
     "text": [
      "idle 1799\n",
      "idle 1800\n",
      "idle 1799\n",
      "idle 1005\n",
      "idle 2290\n",
      "jump 476\n",
      "jump 1205\n",
      "jump 1833\n",
      "jump 1775\n",
      "jump 2262\n",
      "jump 500\n",
      "jump 771\n",
      "run 308\n",
      "run 273\n",
      "run 1171\n",
      "run 786\n",
      "run 2259\n",
      "run 4386\n"
     ]
    }
   ],
   "source": [
    "acc = pd.DataFrame(columns=['x', 'y', 'z', 't'])\n",
    "\n",
    "for filename in os.listdir(os.getcwd()):\n",
    "    if filename.endswith(\".txt\"):\n",
    "        for _, label in enumerate(labels):\n",
    "            if label in filename:\n",
    "                data = pd.read_csv(filename, names=['x', 'y', 'z'])\n",
    "                print(label, len(data))\n",
    "                data = data.diff()\n",
    "                data.dropna(inplace=True)\n",
    "                data['t'] = label\n",
    "                acc = acc.append(data, ignore_index=True)"
   ]
  },
  {
   "cell_type": "code",
   "execution_count": 4,
   "metadata": {},
   "outputs": [
    {
     "data": {
      "text/html": [
       "<div>\n",
       "<style scoped>\n",
       "    .dataframe tbody tr th:only-of-type {\n",
       "        vertical-align: middle;\n",
       "    }\n",
       "\n",
       "    .dataframe tbody tr th {\n",
       "        vertical-align: top;\n",
       "    }\n",
       "\n",
       "    .dataframe thead th {\n",
       "        text-align: right;\n",
       "    }\n",
       "</style>\n",
       "<table border=\"1\" class=\"dataframe\">\n",
       "  <thead>\n",
       "    <tr style=\"text-align: right;\">\n",
       "      <th></th>\n",
       "      <th>x</th>\n",
       "      <th>y</th>\n",
       "      <th>z</th>\n",
       "      <th>t</th>\n",
       "    </tr>\n",
       "  </thead>\n",
       "  <tbody>\n",
       "    <tr>\n",
       "      <th>0</th>\n",
       "      <td>0.0</td>\n",
       "      <td>192.0</td>\n",
       "      <td>0.0</td>\n",
       "      <td>idle</td>\n",
       "    </tr>\n",
       "    <tr>\n",
       "      <th>1</th>\n",
       "      <td>0.0</td>\n",
       "      <td>-64.0</td>\n",
       "      <td>0.0</td>\n",
       "      <td>idle</td>\n",
       "    </tr>\n",
       "    <tr>\n",
       "      <th>2</th>\n",
       "      <td>64.0</td>\n",
       "      <td>64.0</td>\n",
       "      <td>0.0</td>\n",
       "      <td>idle</td>\n",
       "    </tr>\n",
       "    <tr>\n",
       "      <th>3</th>\n",
       "      <td>0.0</td>\n",
       "      <td>0.0</td>\n",
       "      <td>0.0</td>\n",
       "      <td>idle</td>\n",
       "    </tr>\n",
       "    <tr>\n",
       "      <th>4</th>\n",
       "      <td>0.0</td>\n",
       "      <td>-192.0</td>\n",
       "      <td>-64.0</td>\n",
       "      <td>idle</td>\n",
       "    </tr>\n",
       "    <tr>\n",
       "      <th>...</th>\n",
       "      <td>...</td>\n",
       "      <td>...</td>\n",
       "      <td>...</td>\n",
       "      <td>...</td>\n",
       "    </tr>\n",
       "    <tr>\n",
       "      <th>26675</th>\n",
       "      <td>960.0</td>\n",
       "      <td>-10944.0</td>\n",
       "      <td>-3904.0</td>\n",
       "      <td>run</td>\n",
       "    </tr>\n",
       "    <tr>\n",
       "      <th>26676</th>\n",
       "      <td>3456.0</td>\n",
       "      <td>5952.0</td>\n",
       "      <td>512.0</td>\n",
       "      <td>run</td>\n",
       "    </tr>\n",
       "    <tr>\n",
       "      <th>26677</th>\n",
       "      <td>2880.0</td>\n",
       "      <td>6656.0</td>\n",
       "      <td>832.0</td>\n",
       "      <td>run</td>\n",
       "    </tr>\n",
       "    <tr>\n",
       "      <th>26678</th>\n",
       "      <td>960.0</td>\n",
       "      <td>-12160.0</td>\n",
       "      <td>-704.0</td>\n",
       "      <td>run</td>\n",
       "    </tr>\n",
       "    <tr>\n",
       "      <th>26679</th>\n",
       "      <td>-3456.0</td>\n",
       "      <td>-192.0</td>\n",
       "      <td>1920.0</td>\n",
       "      <td>run</td>\n",
       "    </tr>\n",
       "  </tbody>\n",
       "</table>\n",
       "<p>26680 rows × 4 columns</p>\n",
       "</div>"
      ],
      "text/plain": [
       "            x        y       z     t\n",
       "0         0.0    192.0     0.0  idle\n",
       "1         0.0    -64.0     0.0  idle\n",
       "2        64.0     64.0     0.0  idle\n",
       "3         0.0      0.0     0.0  idle\n",
       "4         0.0   -192.0   -64.0  idle\n",
       "...       ...      ...     ...   ...\n",
       "26675   960.0 -10944.0 -3904.0   run\n",
       "26676  3456.0   5952.0   512.0   run\n",
       "26677  2880.0   6656.0   832.0   run\n",
       "26678   960.0 -12160.0  -704.0   run\n",
       "26679 -3456.0   -192.0  1920.0   run\n",
       "\n",
       "[26680 rows x 4 columns]"
      ]
     },
     "execution_count": 4,
     "metadata": {},
     "output_type": "execute_result"
    }
   ],
   "source": [
    "acc"
   ]
  },
  {
   "cell_type": "code",
   "execution_count": 5,
   "metadata": {},
   "outputs": [],
   "source": [
    "acc.to_csv('all.csv', index=False)"
   ]
  },
  {
   "cell_type": "code",
   "execution_count": null,
   "metadata": {},
   "outputs": [],
   "source": []
  }
 ],
 "metadata": {
  "kernelspec": {
   "display_name": "Python 3",
   "language": "python",
   "name": "python3"
  },
  "language_info": {
   "codemirror_mode": {
    "name": "ipython",
    "version": 3
   },
   "file_extension": ".py",
   "mimetype": "text/x-python",
   "name": "python",
   "nbconvert_exporter": "python",
   "pygments_lexer": "ipython3",
   "version": "3.6.8"
  }
 },
 "nbformat": 4,
 "nbformat_minor": 2
}
